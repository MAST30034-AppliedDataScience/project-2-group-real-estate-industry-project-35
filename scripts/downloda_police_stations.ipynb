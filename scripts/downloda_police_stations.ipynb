{
 "cells": [
  {
   "cell_type": "code",
   "execution_count": 1,
   "metadata": {},
   "outputs": [
    {
     "name": "stdout",
     "output_type": "stream",
     "text": [
      "维多利亚州警察局位置数据已保存为 CSV 文件：/home/yanbinh/data/victoria_police_stations.csv\n"
     ]
    }
   ],
   "source": [
    "import requests\n",
    "import pandas as pd\n",
    "\n",
    "# Overpass API URL\n",
    "overpass_url = \"http://overpass-api.de/api/interpreter\"\n",
    "\n",
    "# Overpass QL query to find all police stations in Victoria\n",
    "overpass_query = \"\"\"\n",
    "[out:json];\n",
    "area[name=\"Victoria\"]->.searchArea;\n",
    "(\n",
    "  node[\"amenity\"=\"police\"](area.searchArea);\n",
    "  way[\"amenity\"=\"police\"](area.searchArea);\n",
    "  relation[\"amenity\"=\"police\"](area.searchArea);\n",
    ");\n",
    "out center;\n",
    "\"\"\"\n",
    "\n",
    "# Send the request and get the response\n",
    "response = requests.get(overpass_url, params={'data': overpass_query})\n",
    "data = response.json()\n",
    "\n",
    "# Extract police station information, including latitude and longitude\n",
    "police_stations = []\n",
    "for element in data['elements']:\n",
    "    if 'lat' in element and 'lon' in element:\n",
    "        police_station = {\n",
    "            'id': element['id'],\n",
    "            'name': element['tags'].get('name', 'Unknown'),\n",
    "            'latitude': element['lat'],\n",
    "            'longitude': element['lon']\n",
    "        }\n",
    "        police_stations.append(police_station)\n",
    "\n",
    "# Convert to Pandas DataFrame for further processing\n",
    "police_stations_df = pd.DataFrame(police_stations)\n",
    "\n",
    "# Save the result to a CSV file\n",
    "output_file_path = '../data/raw/external/victoria_police_stations.csv'\n",
    "police_stations_df.to_csv(output_file_path, index=False)\n",
    "\n",
    "print(f\"Police station location data in Victoria has been saved as a CSV file: {output_file_path}\")\n"
   ]
  }
 ],
 "metadata": {
  "kernelspec": {
   "display_name": "Python 3",
   "language": "python",
   "name": "python3"
  },
  "language_info": {
   "codemirror_mode": {
    "name": "ipython",
    "version": 3
   },
   "file_extension": ".py",
   "mimetype": "text/x-python",
   "name": "python",
   "nbconvert_exporter": "python",
   "pygments_lexer": "ipython3",
   "version": "3.10.12"
  }
 },
 "nbformat": 4,
 "nbformat_minor": 2
}
