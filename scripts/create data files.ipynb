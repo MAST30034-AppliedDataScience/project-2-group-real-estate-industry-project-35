{
 "cells": [
  {
   "cell_type": "code",
   "execution_count": 2,
   "metadata": {},
   "outputs": [],
   "source": [
    "import os"
   ]
  },
  {
   "cell_type": "code",
   "execution_count": 3,
   "metadata": {},
   "outputs": [
    {
     "name": "stdout",
     "output_type": "stream",
     "text": [
      "create folder: ../data/raw/external/API/1\n",
      "create folder: ../data/raw/external/API/3\n",
      "create folder: ../data/curated/external/API/1\n",
      "create folder: ../data/curated/external/API/2\n",
      "create folder: ../data/curated/external/API/3\n",
      "create folder: ../data/curated/external/API/4\n"
     ]
    }
   ],
   "source": [
    "# create the folders for data\n",
    "base_folder = \"../data/\"\n",
    "data_folders = [\n",
    "    \"raw/property\",\n",
    "    \"raw/external/SA2\",\n",
    "    \"raw/external/API\",\n",
    "    \"raw/external/API/1\",\n",
    "    \"raw/external/API/2\",\n",
    "    \"raw/external/API/3\",\n",
    "    \"raw/external/API/4\",\n",
    "    \"curated/property\",\n",
    "    \"curated/external/SA2\",\n",
    "    \"curated/external/API/1\",\n",
    "    \"curated/external/API/2\",\n",
    "    \"curated/external/API/3\",\n",
    "    \"curated/external/API/4\",\n",
    "]\n",
    "for folder in data_folders:\n",
    "    path = os.path.join(base_folder,folder)\n",
    "    if not os.path.exists (path):\n",
    "        os.makedirs(path)\n",
    "        print(f\"create folder: {path}\")"
   ]
  }
 ],
 "metadata": {
  "kernelspec": {
   "display_name": "base",
   "language": "python",
   "name": "python3"
  },
  "language_info": {
   "codemirror_mode": {
    "name": "ipython",
    "version": 3
   },
   "file_extension": ".py",
   "mimetype": "text/x-python",
   "name": "python",
   "nbconvert_exporter": "python",
   "pygments_lexer": "ipython3",
   "version": "3.10.9"
  }
 },
 "nbformat": 4,
 "nbformat_minor": 2
}
