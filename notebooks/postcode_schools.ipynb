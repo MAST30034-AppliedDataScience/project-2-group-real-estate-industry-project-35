{
 "cells": [
  {
   "cell_type": "markdown",
   "metadata": {},
   "source": [
    "# SCHOOL"
   ]
  },
  {
   "cell_type": "code",
   "execution_count": null,
   "metadata": {},
   "outputs": [],
   "source": [
    "import pandas as pd\n",
    "\n",
    "# Define the path to the input CSV file containing school data\n",
    "file_path = \"../data/raw/external/VIC_School_Location.csv\"\n",
    "school_data = pd.read_csv(file_path, encoding='ISO-8859-1')\n",
    "\n",
    "# Group by 'Address_Postcode' and 'Postal_Town', and count the number of schools in each postcode\n",
    "postcode_school_summary = school_data.groupby(['Address_Postcode', 'Postal_Town']).size().reset_index(name='Number_of_Schools')\n",
    "\n",
    "# Save the result to a new CSV file\n",
    "output_file_path = '../data/raw/external/school/postcode_school_summary.csv'\n",
    "postcode_school_summary.to_csv(output_file_path, index=False)\n",
    "\n",
    "print(f'Results saved to {output_file_path}')\n"
   ]
  },
  {
   "cell_type": "markdown",
   "metadata": {},
   "source": [
    "# School data cleaning"
   ]
  },
  {
   "cell_type": "code",
   "execution_count": null,
   "metadata": {},
   "outputs": [],
   "source": [
    "import pandas as pd\n",
    "\n",
    "# Load the CSV file\n",
    "file_path = '../data/raw/external/school/postcode_school_summary.csv'\n",
    "data = pd.read_csv(file_path)\n",
    "\n",
    "# Remove the 'Postal_Town' column and group by 'Address_Postcode', summing the number of schools for each postcode\n",
    "grouped_data = data.drop(columns='Postal_Town').groupby('Address_Postcode', as_index=False).sum()\n",
    "\n",
    "# Save the result to a new CSV file\n",
    "output_path = '../data/raw/external/school/postcode_school.csv'\n",
    "grouped_data.to_csv(output_path, index=False)\n",
    "\n",
    "print(f'File has been saved to: {output_path}')"
   ]
  }
 ],
 "metadata": {
  "kernelspec": {
   "display_name": "base",
   "language": "python",
   "name": "python3"
  },
  "language_info": {
   "codemirror_mode": {
    "name": "ipython",
    "version": 3
   },
   "file_extension": ".py",
   "mimetype": "text/x-python",
   "name": "python",
   "nbconvert_exporter": "python",
   "pygments_lexer": "ipython3",
   "version": "3.9.7"
  }
 },
 "nbformat": 4,
 "nbformat_minor": 2
}
