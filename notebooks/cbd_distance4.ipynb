{
 "cells": [
  {
   "cell_type": "code",
   "execution_count": 1,
   "metadata": {},
   "outputs": [],
   "source": [
    "import pandas as pd\n",
    "import geojson"
   ]
  },
  {
   "cell_type": "code",
   "execution_count": 2,
   "metadata": {},
   "outputs": [
    {
     "name": "stdout",
     "output_type": "stream",
     "text": [
      "geojson created\n"
     ]
    }
   ],
   "source": [
    "from geojson import Feature, Point, FeatureCollection\n",
    "\n",
    "houses_df = pd.read_csv('../data/curated/property/property_4_lat_lon.csv')  \n",
    "cbd = pd.read_csv('../data/raw/external/melbourne_cbd_coordinates.csv')  \n",
    "cbd_df = cbd.rename(columns={'Longitude': 'longitude', 'Latitude': 'latitude'})\n",
    "\n",
    "houses_df = houses_df.dropna(subset=['longitude', 'latitude'])\n",
    "cbd_df = cbd_df.dropna(subset=['longitude', 'latitude'])\n",
    "\n",
    "\n",
    "### convert geojson\n",
    "def create_geojson_feature(row, feature_type='house'):\n",
    "    point = Point((row['longitude'], row['latitude']))\n",
    "    properties = {\n",
    "        'address': row.get('address', 'unknown'),  \n",
    "        'type': feature_type\n",
    "    }\n",
    "    return Feature(geometry=point, properties=properties)\n",
    "\n",
    "### apply the function\n",
    "house_features = houses_df.apply(lambda row: create_geojson_feature(row, 'house'), axis=1).tolist()\n",
    "house_feature_collection = FeatureCollection(house_features)\n",
    "\n",
    "cbd_features = cbd_df.apply(lambda row: create_geojson_feature(row, 'cbd'), axis=1).tolist()\n",
    "cbd_feature_collection = FeatureCollection(cbd_features)\n",
    "\n",
    "\n",
    "### save geojson\n",
    "houses_geojson_output_path = '../data/raw/external/API/4/property_4_geojson.geojson'\n",
    "cbd_geojson_output_path = '../data/raw/external/API/4/melbourne_cbd_geojson.geojson'\n",
    "\n",
    "with open(houses_geojson_output_path, 'w') as f:\n",
    "    geojson.dump(house_feature_collection, f)\n",
    "\n",
    "with open(cbd_geojson_output_path, 'w') as f:\n",
    "    geojson.dump(cbd_feature_collection, f)\n",
    "\n",
    "\n",
    "print(\"geojson created\")\n"
   ]
  },
  {
   "cell_type": "code",
   "execution_count": 3,
   "metadata": {},
   "outputs": [
    {
     "name": "stdout",
     "output_type": "stream",
     "text": [
      "saved ../data/curated/external/API/4/closest_cbd_distance_final_4.csv\n"
     ]
    }
   ],
   "source": [
    "import geojson\n",
    "import openrouteservice\n",
    "import pandas as pd\n",
    "import time\n",
    "\n",
    "api_key = '5b3ce3597851110001cf6248c2b2602de2dc43afa9f186cdfc39caca' \n",
    "client = openrouteservice.Client(key=api_key)\n",
    "\n",
    "### get geo files\n",
    "with open('../data/raw/external/API/4/property_4_geojson.geojson', 'r') as f:\n",
    "    rent_geojson = geojson.load(f)\n",
    "\n",
    "with open('../data/raw/external/API/4/melbourne_cbd_geojson.geojson', 'r') as f:\n",
    "    cbd_geojson = geojson.load(f)\n",
    "\n",
    "### function of get the latitude and longitude\n",
    "def extract_coordinates(features):\n",
    "    coordinates = []\n",
    "    for feature in features['features']:\n",
    "        lon, lat = feature['geometry']['coordinates']\n",
    "        address = feature['properties'].get('address', 'unknown')\n",
    "        coordinates.append((lat, lon, address))\n",
    "    return coordinates\n",
    "\n",
    "rent_coordinates = extract_coordinates(rent_geojson)\n",
    "cbd_coordinates = extract_coordinates(cbd_geojson)\n",
    "\n",
    "### apply the function\n",
    "house_coords = [(lon, lat) for lat, lon, _ in rent_coordinates]\n",
    "cbd_coords = [(lon, lat) for lat, lon, _ in cbd_coordinates]\n",
    "\n",
    "\n",
    "### the function of calculate the distance\n",
    "def calculate_distance_matrix_in_batches(house_coords, cbd_coords, batch_size=100):\n",
    "    all_shortest_distances = []\n",
    "    \n",
    "    for i in range(0, len(house_coords), batch_size):\n",
    "        batch_houses = house_coords[i:i + batch_size]\n",
    "        try:\n",
    "            matrix = client.distance_matrix(\n",
    "                locations=batch_houses + cbd_coords,\n",
    "                profile='driving-car',\n",
    "                sources=list(range(len(batch_houses))),\n",
    "                destinations=list(range(len(batch_houses), len(batch_houses) + len(cbd_coords))),\n",
    "                metrics=['distance'],\n",
    "                units='km'\n",
    "            )\n",
    "            distances = matrix['distances']\n",
    "            \n",
    "            ### find the mini distance\n",
    "            for j, house_distances in enumerate(distances[:len(batch_houses)]):\n",
    "              \n",
    "                valid_distances = [d for d in house_distances if d is not None]\n",
    "                if valid_distances:\n",
    "                    min_distance = min(valid_distances)\n",
    "                    closest_cbd_idx = house_distances.index(min_distance)\n",
    "                    rent_address = rent_coordinates[i + j][2]\n",
    "                    closest_cbd = cbd_coordinates[closest_cbd_idx][2]\n",
    "                    all_shortest_distances.append({\n",
    "                        'rent_address': rent_address,\n",
    "                        'closest_cbd': closest_cbd,\n",
    "                        'minimum_distance_cbd': min_distance\n",
    "                    })\n",
    "        except Exception as e:\n",
    "            print(f\"Error calculating distance matrix: {e}\")\n",
    "        time.sleep(1)  \n",
    "    \n",
    "    return all_shortest_distances\n",
    "\n",
    "### apply the distance function\n",
    "shortest_distances = calculate_distance_matrix_in_batches(house_coords, cbd_coords, batch_size=100)\n",
    "\n",
    "### save\n",
    "shortest_distances_df = pd.DataFrame(shortest_distances)\n",
    "output_path = '../data/curated/external/API/4/closest_cbd_distance_final_4.csv'\n",
    "shortest_distances_df.to_csv(output_path, index=False)\n",
    "\n",
    "print(f\"saved {output_path}\")\n"
   ]
  }
 ],
 "metadata": {
  "kernelspec": {
   "display_name": "Python 3",
   "language": "python",
   "name": "python3"
  },
  "language_info": {
   "codemirror_mode": {
    "name": "ipython",
    "version": 3
   },
   "file_extension": ".py",
   "mimetype": "text/x-python",
   "name": "python",
   "nbconvert_exporter": "python",
   "pygments_lexer": "ipython3",
   "version": "3.10.9"
  }
 },
 "nbformat": 4,
 "nbformat_minor": 2
}
