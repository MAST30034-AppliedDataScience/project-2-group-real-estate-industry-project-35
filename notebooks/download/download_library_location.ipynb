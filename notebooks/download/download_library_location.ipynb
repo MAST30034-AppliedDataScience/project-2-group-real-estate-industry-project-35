{
 "cells": [
  {
   "cell_type": "code",
   "execution_count": 1,
   "metadata": {},
   "outputs": [
    {
     "name": "stdout",
     "output_type": "stream",
     "text": [
      "维多利亚州图书馆位置数据已保存到 /home/yanbinh/data/victoria_libraries.csv\n"
     ]
    }
   ],
   "source": [
    "import requests\n",
    "import pandas as pd\n",
    "\n",
    "# Overpass API URL\n",
    "overpass_url = \"http://overpass-api.de/api/interpreter\"\n",
    "\n",
    "# Overpass QL query to find all libraries in Victoria\n",
    "overpass_query = \"\"\"\n",
    "[out:json];\n",
    "area[name=\"Victoria\"]->.searchArea;\n",
    "(\n",
    "  node[\"amenity\"=\"library\"](area.searchArea);\n",
    "  way[\"amenity\"=\"library\"](area.searchArea);\n",
    "  relation[\"amenity\"=\"library\"](area.searchArea);\n",
    ");\n",
    "out center;\n",
    "\"\"\"\n",
    "\n",
    "# Send the request and get the response\n",
    "response = requests.get(overpass_url, params={'data': overpass_query})\n",
    "data = response.json()\n",
    "\n",
    "# Extract library information, including latitude and longitude\n",
    "libraries = []\n",
    "for element in data['elements']:\n",
    "    if 'lat' in element and 'lon' in element:\n",
    "        library = {\n",
    "            'id': element['id'],\n",
    "            'name': element['tags'].get('name', 'Unknown'),\n",
    "            'latitude': element['lat'],\n",
    "            'longitude': element['lon']\n",
    "        }\n",
    "        libraries.append(library)\n",
    "\n",
    "# Convert to Pandas DataFrame for further processing\n",
    "libraries_df = pd.DataFrame(libraries)\n",
    "\n",
    "# Save the result to a CSV file\n",
    "output_file_path = 'D:\\STUDYfile\\\\ads2\\\\111ads\\project-2-group-real-estate-industry-project-35\\data\\\\raw\\external\\\\victoria_libraries.csv'\n",
    "libraries_df.to_csv(output_file_path, index=False)\n",
    "\n",
    "print(f\"library saved: {output_file_path}\")"
   ]
  }
 ],
 "metadata": {
  "kernelspec": {
   "display_name": "Python 3",
   "language": "python",
   "name": "python3"
  },
  "language_info": {
   "codemirror_mode": {
    "name": "ipython",
    "version": 3
   },
   "file_extension": ".py",
   "mimetype": "text/x-python",
   "name": "python",
   "nbconvert_exporter": "python",
   "pygments_lexer": "ipython3",
   "version": "3.10.12"
  }
 },
 "nbformat": 4,
 "nbformat_minor": 2
}
