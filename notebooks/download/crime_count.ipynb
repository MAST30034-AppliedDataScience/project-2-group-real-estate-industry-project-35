{
 "cells": [
  {
   "cell_type": "code",
   "execution_count": 5,
   "metadata": {},
   "outputs": [
    {
     "name": "stdout",
     "output_type": "stream",
     "text": [
      "Data has been saved to /Users/fenglingyi/Downloads/postcode_crime_count_by_year.csv\n"
     ]
    }
   ],
   "source": [
    "import pandas as pd\n",
    "import requests\n",
    "import os\n",
    "\n",
    "# URL for saving file\n",
    "url = 'https://files.crimestatistics.vic.gov.au/2024-09/Data_Tables_LGA_Recorded_Offences_Year_Ending_June_2024.xlsx'\n",
    "# Save path to file\n",
    "save_path = os.path.expanduser(\"~/Downloads/crime_count_21_22_23.xlsx\")\n",
    "\n",
    "# Download file\n",
    "response = requests.get(url)\n",
    "with open(save_path, 'wb') as file:\n",
    "    file.write(response.content)\n",
    "\n",
    "# Read the specified worksheet \"Table 03\"\n",
    "df_table1 = pd.read_excel(save_path, sheet_name=\"Table 03\", engine='openpyxl')\n",
    "\n",
    "# Select data for the years 2021, 2022, and 2023\n",
    "df_table1_filtered = df_table1[df_table1['Year'].isin([2021, 2022, 2023])]\n",
    "\n",
    "# Group the data by Postcode and Year to get the crime count for each year separately\n",
    "postcode_crime_count_by_year = df_table1_filtered.groupby(['Postcode', 'Year'])['Offence Count'].sum().unstack().reset_index()\n",
    "\n",
    "# Rename the columns to 2021crime, 2022crime, 2023crime\n",
    "postcode_crime_count_by_year.columns = ['postcode', '2021crime', '2022crime', '2023crime']\n",
    "\n",
    "# Save the result to a new CSV file\n",
    "output_path = os.path.expanduser(\"~/Downloads/crime_by_year.csv\")\n",
    "postcode_crime_count_by_year.to_csv(output_path, index=False)\n",
    "\n",
    "print(f\"Data has been saved to {output_path}\")\n"
   ]
  }
 ],
 "metadata": {
  "kernelspec": {
   "display_name": "Python (myenv)",
   "language": "python",
   "name": "myenv"
  },
  "language_info": {
   "codemirror_mode": {
    "name": "ipython",
    "version": 3
   },
   "file_extension": ".py",
   "mimetype": "text/x-python",
   "name": "python",
   "nbconvert_exporter": "python",
   "pygments_lexer": "ipython3",
   "version": "3.12.6"
  },
  "orig_nbformat": 4
 },
 "nbformat": 4,
 "nbformat_minor": 2
}
