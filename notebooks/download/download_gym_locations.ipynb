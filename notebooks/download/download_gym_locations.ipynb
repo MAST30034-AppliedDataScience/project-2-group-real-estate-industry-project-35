{
 "cells": [
  {
   "cell_type": "code",
   "execution_count": null,
   "metadata": {},
   "outputs": [],
   "source": [
    "import requests\n",
    "import pandas as pd\n",
    "\n",
    "\n",
    "# Query URL for Nominatim API\n",
    "overpass_url = \"http://overpass-api.de/api/interpreter\"\n",
    "\n",
    "# Query parameters\n",
    "overpass_query = \"\"\"\n",
    "[out:json];\n",
    "area[name=\"Victoria\"]->.searchArea;\n",
    "(\n",
    "  node[\"leisure\"=\"fitness_centre\"](area.searchArea);\n",
    "  way[\"leisure\"=\"fitness_centre\"](area.searchArea);\n",
    "  relation[\"leisure\"=\"fitness_centre\"](area.searchArea);\n",
    "\n",
    "  node[\"leisure\"=\"gym\"](area.searchArea);\n",
    "  way[\"leisure\"=\"gym\"](area.searchArea);\n",
    "  relation[\"leisure\"=\"gym\"](area.searchArea);\n",
    ");\n",
    "out center;\n",
    "\"\"\"\n",
    "response = requests.get(overpass_url, params={'data': overpass_query})\n",
    "data = response.json()\n",
    "\n",
    "# Extract information about the gym, including latitude and longitude\n",
    "gyms = []\n",
    "for element in data['elements']:\n",
    "    if 'lat' in element and 'lon' in element:\n",
    "        gym = {\n",
    "            'id': element['id'],\n",
    "            'name': element['tags'].get('name', 'Unknown'),\n",
    "            'latitude': element['lat'],\n",
    "            'longitude': element['lon']\n",
    "        }\n",
    "        gyms.append(gym)\n",
    "\n",
    "gyms_df = pd.DataFrame(gyms)\n",
    "\n",
    "output_file_path = '/home/yanbinh/data/victoria_gyms.csv'\n",
    "gyms_df.to_csv(output_file_path, index=False)\n",
    "\n",
    "print(f\"gym saved: {output_file_path}\")\n"
   ]
  }
 ],
 "metadata": {
  "kernelspec": {
   "display_name": "Python 3",
   "language": "python",
   "name": "python3"
  },
  "language_info": {
   "codemirror_mode": {
    "name": "ipython",
    "version": 3
   },
   "file_extension": ".py",
   "mimetype": "text/x-python",
   "name": "python",
   "nbconvert_exporter": "python",
   "pygments_lexer": "ipython3",
   "version": "3.10.12"
  }
 },
 "nbformat": 4,
 "nbformat_minor": 2
}
