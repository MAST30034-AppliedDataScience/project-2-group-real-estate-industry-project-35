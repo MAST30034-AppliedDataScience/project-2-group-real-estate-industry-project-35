{
 "cells": [
  {
   "cell_type": "code",
   "execution_count": 1,
   "metadata": {},
   "outputs": [
    {
     "name": "stdout",
     "output_type": "stream",
     "text": [
      "CBD saved: D:\\STUDYfile\\ads2\\111ads\\project-2-group-real-estate-industry-project-35\\data\\raw\\external\\melbourne_cbd_coordinates.csv\n"
     ]
    }
   ],
   "source": [
    "import requests\n",
    "import csv\n",
    "import os\n",
    "\n",
    "# Query URL for Nominatim API\n",
    "nominatim_url = \"https://nominatim.openstreetmap.org/search\"\n",
    "\n",
    "# Query parameters\n",
    "params = {\n",
    "    'q': 'Melbourne CBD',  \n",
    "    'format': 'json'      \n",
    "}\n",
    "\n",
    "headers = {\n",
    "    'User-Agent': 'YourAppName/1.0 (your.email@example.com)'  \n",
    "}\n",
    "\n",
    "response = requests.get(nominatim_url, params=params, headers=headers)\n",
    "\n",
    "if response.status_code == 200:\n",
    "    data = response.json()\n",
    "    \n",
    "    # Print the latitude and longitude of the first result queried\n",
    "    if len(data) > 0:\n",
    "        melbourne_cbd = data[0]\n",
    "        lat = melbourne_cbd['lat']\n",
    "        lon = melbourne_cbd['lon']\n",
    "        save_path = \"D:\\STUDYfile\\\\ads2\\\\111ads\\project-2-group-real-estate-industry-project-35\\data\\\\raw\\external\\\\melbourne_cbd_coordinates.csv\"\n",
    "\n",
    "        os.makedirs(os.path.dirname(save_path), exist_ok=True)\n",
    "\n",
    "\n",
    "        with open(save_path, mode='w', newline='') as file:\n",
    "            writer = csv.writer(file)\n",
    "            writer.writerow(['Location', 'Latitude', 'Longitude'])\n",
    "            writer.writerow(['Melbourne CBD', lat, lon])\n",
    "        \n",
    "        print(f\"CBD saved: {save_path}\")\n",
    "    else:\n",
    "        print(\"None\")\n",
    "else:\n",
    "    print(f\"failed: {response.status_code}\")\n"
   ]
  }
 ],
 "metadata": {
  "kernelspec": {
   "display_name": "base",
   "language": "python",
   "name": "python3"
  },
  "language_info": {
   "codemirror_mode": {
    "name": "ipython",
    "version": 3
   },
   "file_extension": ".py",
   "mimetype": "text/x-python",
   "name": "python",
   "nbconvert_exporter": "python",
   "pygments_lexer": "ipython3",
   "version": "3.9.7"
  }
 },
 "nbformat": 4,
 "nbformat_minor": 2
}
