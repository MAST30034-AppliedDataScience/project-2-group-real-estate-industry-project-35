{
 "cells": [
  {
   "cell_type": "code",
   "execution_count": 2,
   "metadata": {},
   "outputs": [
    {
     "name": "stdout",
     "output_type": "stream",
     "text": [
      "         id            name   latitude   longitude\n",
      "0  27071462  Mount Waverley -37.875264  145.128126\n",
      "1  27091664     Jordanville -37.873663  145.112269\n",
      "2  27123069    East Malvern -37.876861  145.069171\n",
      "3  29749085     Mooroolbark -37.784697  145.313186\n",
      "4  29764097       Ashburton -37.862047  145.081291\n",
      "地铁站位置数据已保存到 /home/yanbinh/data/victoria_metro_stations.csv\n"
     ]
    }
   ],
   "source": [
    "import requests\n",
    "import json\n",
    "import pandas as pd\n",
    "\n",
    "# Overpass API URL\n",
    "overpass_url = \"http://overpass-api.de/api/interpreter\"\n",
    "\n",
    "# Overpass QL query to find all metro stations in Victoria\n",
    "overpass_query = \"\"\"\n",
    "[out:json];\n",
    "area[name=\"Victoria\"]->.searchArea;\n",
    "(\n",
    "  node[\"railway\"=\"station\"](area.searchArea);\n",
    "  way[\"railway\"=\"station\"](area.searchArea);\n",
    "  relation[\"railway\"=\"station\"](area.searchArea);\n",
    ");\n",
    "out center;\n",
    "\"\"\"\n",
    "\n",
    "# Send the request and get the response\n",
    "response = requests.get(overpass_url, params={'data': overpass_query})\n",
    "data = response.json()\n",
    "\n",
    "# Extract metro station information from the response\n",
    "stations = []\n",
    "for element in data['elements']:\n",
    "    if 'lat' in element and 'lon' in element:  # Check if latitude and longitude are available\n",
    "        station = {\n",
    "            'id': element['id'],\n",
    "            'name': element['tags'].get('name', 'Unknown'),\n",
    "            'latitude': element['lat'],\n",
    "            'longitude': element['lon']\n",
    "        }\n",
    "        stations.append(station)\n",
    "\n",
    "# Convert to DataFrame for further processing\n",
    "stations_df = pd.DataFrame(stations)\n",
    "\n",
    "# View the first few rows of data\n",
    "print(stations_df.head())\n",
    "\n",
    "# Save the result to a CSV file\n",
    "output_file_path = 'D:\\STUDYfile\\\\ads2\\\\111ads\\project-2-group-real-estate-industry-project-35\\data\\\\raw\\external\\\\victoria_metro_stations.csv'\n",
    "stations_df.to_csv(output_file_path, index=False)\n",
    "\n",
    "print(f\"Metro station saved: {output_file_path}\")\n"
   ]
  }
 ],
 "metadata": {
  "kernelspec": {
   "display_name": "Python 3",
   "language": "python",
   "name": "python3"
  },
  "language_info": {
   "codemirror_mode": {
    "name": "ipython",
    "version": 3
   },
   "file_extension": ".py",
   "mimetype": "text/x-python",
   "name": "python",
   "nbconvert_exporter": "python",
   "pygments_lexer": "ipython3",
   "version": "3.10.12"
  }
 },
 "nbformat": 4,
 "nbformat_minor": 2
}
