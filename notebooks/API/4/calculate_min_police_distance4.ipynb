{
 "cells": [
  {
   "cell_type": "code",
   "execution_count": 1,
   "metadata": {},
   "outputs": [],
   "source": [
    "import pandas as pd\n",
    "import geojson"
   ]
  },
  {
   "cell_type": "code",
   "execution_count": 2,
   "metadata": {},
   "outputs": [
    {
     "name": "stdout",
     "output_type": "stream",
     "text": [
      "房屋和车站的GeoJSON文件已生成\n"
     ]
    }
   ],
   "source": [
    "from geojson import Feature, Point, FeatureCollection\n",
    "\n",
    "houses_df = pd.read_csv('../data_4/property_4_lat_lon.csv')  \n",
    "police_df = pd.read_csv('../data_4/api/victoria_police_stations.csv') \n",
    "houses_df = houses_df.dropna(subset=['longitude', 'latitude'])\n",
    "police_df = police_df.dropna(subset=['longitude', 'latitude'])\n",
    "\n",
    "\n",
    "### create GeoJSON Feature \n",
    "def create_geojson_feature(row, feature_type='house'):\n",
    "    point = Point((row['longitude'], row['latitude']))\n",
    "    properties = {\n",
    "        'address': row.get('address', 'unknown'),  \n",
    "        'type': feature_type\n",
    "    }\n",
    "    return Feature(geometry=point, properties=properties)\n",
    "\n",
    "### convert the data into Geojson\n",
    "house_features = houses_df.apply(lambda row: create_geojson_feature(row, 'house'), axis=1).tolist()\n",
    "house_feature_collection = FeatureCollection(house_features)\n",
    "\n",
    "police_features = police_df.apply(lambda row: create_geojson_feature(row, 'police'), axis=1).tolist()\n",
    "police_feature_collection = FeatureCollection(police_features)\n",
    "\n",
    "\n",
    "### save the geo file\n",
    "houses_geojson_output_path = '../data_4/api/property_4_geojson.geojson'\n",
    "police_geojson_output_path = '../data_4/api/victoria_police_stations_geojson.geojson'\n",
    "\n",
    "with open(houses_geojson_output_path, 'w') as f:\n",
    "    geojson.dump(house_feature_collection, f)\n",
    "\n",
    "with open(police_geojson_output_path, 'w') as f:\n",
    "    geojson.dump(police_feature_collection, f)\n",
    "\n",
    "\n",
    "print(\"Geojson created\")\n"
   ]
  },
  {
   "cell_type": "code",
   "execution_count": 3,
   "metadata": {},
   "outputs": [
    {
     "name": "stdout",
     "output_type": "stream",
     "text": [
      "结果已保存到 ../data_4/api/results/closest_police_distance_final_4.csv\n"
     ]
    }
   ],
   "source": [
    "import geojson\n",
    "import openrouteservice\n",
    "import pandas as pd\n",
    "import time\n",
    "\n",
    "### api client\n",
    "api_key = '5b3ce3597851110001cf6248c2b2602de2dc43afa9f186cdfc39caca' \n",
    "client = openrouteservice.Client(key=api_key)\n",
    "\n",
    "### read Geojson\n",
    "with open('../data_4/api/property_4_geojson.geojson', 'r') as f:\n",
    "    rent_geojson = geojson.load(f)\n",
    "\n",
    "with open('../data_4/api/victoria_police_stations_geojson.geojson', 'r') as f:\n",
    "    police_geojson = geojson.load(f)\n",
    "\n",
    "### create the function to get the latitude and longtitude\n",
    "def extract_coordinates(features):\n",
    "    coordinates = []\n",
    "    for feature in features['features']:\n",
    "        lon, lat = feature['geometry']['coordinates']\n",
    "        address = feature['properties'].get('address', 'unknown')\n",
    "        coordinates.append((lat, lon, address))\n",
    "    return coordinates\n",
    "\n",
    "rent_coordinates = extract_coordinates(rent_geojson)\n",
    "police_coordinates = extract_coordinates(police_geojson)\n",
    "\n",
    "house_coords = [(lon, lat) for lat, lon, _ in rent_coordinates]\n",
    "police_coords = [(lon, lat) for lat, lon, _ in police_coordinates]\n",
    "\n",
    "\n",
    "### using api to calculate the driving distance\n",
    "def calculate_distance_matrix_in_batches(house_coords, police_coords, batch_size=18):\n",
    "    all_shortest_distances = []\n",
    "    \n",
    "    for i in range(0, len(house_coords), batch_size):\n",
    "        batch_houses = house_coords[i:i + batch_size]\n",
    "        try:\n",
    "            matrix = client.distance_matrix(\n",
    "                locations=batch_houses + police_coords,\n",
    "                profile='driving-car',\n",
    "                sources=list(range(len(batch_houses))),\n",
    "                destinations=list(range(len(batch_houses), len(batch_houses) + len(police_coords))),\n",
    "                metrics=['distance'],\n",
    "                units='km'\n",
    "            )\n",
    "            distances = matrix['distances']\n",
    "            \n",
    "            ### find mini distance\n",
    "            for j, house_distances in enumerate(distances[:len(batch_houses)]):\n",
    "                valid_distances = [d for d in house_distances if d is not None]\n",
    "                if valid_distances:\n",
    "                    min_distance = min(valid_distances)\n",
    "                    closest_police_idx = house_distances.index(min_distance)\n",
    "                    rent_address = rent_coordinates[i + j][2]\n",
    "                    closest_police = police_coordinates[closest_police_idx][2]\n",
    "                    all_shortest_distances.append({\n",
    "                        'rent_address': rent_address,\n",
    "                        'closest_police': closest_police,\n",
    "                        'minimum_distance_police': min_distance\n",
    "                    })\n",
    "        except Exception as e:\n",
    "            print(f\"Error calculating distance matrix: {e}\")\n",
    "        time.sleep(1) \n",
    "    \n",
    "    return all_shortest_distances\n",
    "\n",
    "### batch size the data\n",
    "shortest_distances = calculate_distance_matrix_in_batches(house_coords, police_coords, batch_size=18)\n",
    "\n",
    "### save data\n",
    "shortest_distances_df = pd.DataFrame(shortest_distances)\n",
    "output_path = '../data_4/api/results/closest_police_distance_final_4.csv'\n",
    "shortest_distances_df.to_csv(output_path, index=False)\n",
    "\n",
    "print(f\"saved into {output_path}\")\n"
   ]
  }
 ],
 "metadata": {
  "kernelspec": {
   "display_name": "Python 3",
   "language": "python",
   "name": "python3"
  },
  "language_info": {
   "codemirror_mode": {
    "name": "ipython",
    "version": 3
   },
   "file_extension": ".py",
   "mimetype": "text/x-python",
   "name": "python",
   "nbconvert_exporter": "python",
   "pygments_lexer": "ipython3",
   "version": "3.10.9"
  }
 },
 "nbformat": 4,
 "nbformat_minor": 2
}
