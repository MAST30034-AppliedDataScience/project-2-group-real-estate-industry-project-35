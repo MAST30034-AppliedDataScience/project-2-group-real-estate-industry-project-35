{
 "cells": [
  {
   "cell_type": "code",
   "execution_count": 9,
   "metadata": {},
   "outputs": [
    {
     "name": "stdout",
     "output_type": "stream",
     "text": [
      "文件已分割并保存为: /Users/fenglingyi/Downloads/groupwork_generate/property_addresses_part1.csv 和 /Users/fenglingyi/Downloads/groupwork_generate/property_addresses_part2.csv\n"
     ]
    }
   ],
   "source": [
    "import pandas as pd\n",
    "\n",
    "file_path = '..data/curated/property/property 2.csv'\n",
    "df = pd.read_csv(file_path)\n",
    "\n",
    "# Calculate the middle position and divide the data into two copies\n",
    "mid_index = len(df) // 2\n",
    "\n",
    "# split data\n",
    "df_part1 = df.iloc[:mid_index]\n",
    "df_part2 = df.iloc[mid_index:]\n",
    "\n",
    "output_path_part1 = '../data/raw/external/API/2/property_addresses_part1.csv'\n",
    "output_path_part2 = '../data/raw/external/API/2/property_addresses_part2.csv'\n",
    "\n",
    "df_part1.to_csv(output_path_part1, index=False)\n",
    "df_part2.to_csv(output_path_part2, index=False)\n",
    "\n",
    "print(f\"file spilt and save into: {output_path_part1} 和 {output_path_part2}\")\n"
   ]
  },
  {
   "cell_type": "markdown",
   "metadata": {},
   "source": [
    "part 1"
   ]
  },
  {
   "cell_type": "code",
   "execution_count": 3,
   "metadata": {},
   "outputs": [
    {
     "name": "stdout",
     "output_type": "stream",
     "text": [
      "房屋和车站的GeoJSON文件已生成\n"
     ]
    }
   ],
   "source": [
    "import pandas as pd\n",
    "import geojson\n",
    "from geojson import Feature, Point, FeatureCollection\n",
    "\n",
    "houses_df = pd.read_csv('../data/raw/external/API/2/property_addresses_part1.csv') \n",
    "supermarkets_df = pd.read_csv('../data/raw/external/API/victoria_supermarkets.csv') \n",
    "\n",
    "houses_df = houses_df.dropna(subset=['longitude', 'latitude'])\n",
    "supermarkets_df = supermarkets_df.dropna(subset=['longitude', 'latitude'])\n",
    "\n",
    "\n",
    "def create_geojson_feature(row, feature_type='house'):\n",
    "    point = Point((row['longitude'], row['latitude']))\n",
    "    properties = {\n",
    "        'address': row.get('address', 'unknown'),\n",
    "        'type': feature_type\n",
    "    }\n",
    "    return Feature(geometry=point, properties=properties)\n",
    "\n",
    "house_features = houses_df.apply(lambda row: create_geojson_feature(row, 'house'), axis=1).tolist()\n",
    "house_feature_collection = FeatureCollection(house_features)\n",
    "\n",
    "supermarkets_features = supermarkets_df.apply(lambda row: create_geojson_feature(row, 'supermarkets'), axis=1).tolist()\n",
    "supermarkets_feature_collection = FeatureCollection(supermarkets_features)\n",
    "\n",
    "houses_geojson_output_path = '../data/raw/external/API/2/property_geojson1.geojson'\n",
    "supermarkets_geojson_output_path = '../data/raw/external/API/2/vic_supermarket_geojson.geojson'\n",
    "\n",
    "with open(houses_geojson_output_path, 'w') as f:\n",
    "    geojson.dump(house_feature_collection, f)\n",
    "\n",
    "with open(supermarkets_geojson_output_path, 'w') as f:\n",
    "    geojson.dump(supermarkets_feature_collection, f)\n",
    "\n",
    "print(\"Created\")"
   ]
  },
  {
   "cell_type": "markdown",
   "metadata": {},
   "source": [
    "part 2"
   ]
  },
  {
   "cell_type": "code",
   "execution_count": 1,
   "metadata": {},
   "outputs": [
    {
     "ename": "FileNotFoundError",
     "evalue": "[Errno 2] No such file or directory: '../data/raw/external/API/2/property_addresses_part2.csv'",
     "output_type": "error",
     "traceback": [
      "\u001b[0;31m---------------------------------------------------------------------------\u001b[0m",
      "\u001b[0;31mFileNotFoundError\u001b[0m                         Traceback (most recent call last)",
      "Cell \u001b[0;32mIn[1], line 6\u001b[0m\n\u001b[1;32m      3\u001b[0m \u001b[39mfrom\u001b[39;00m \u001b[39mgeojson\u001b[39;00m \u001b[39mimport\u001b[39;00m Feature, Point, FeatureCollection\n\u001b[1;32m      5\u001b[0m \u001b[39m# 读取房屋和车站的 CSV 文件\u001b[39;00m\n\u001b[0;32m----> 6\u001b[0m houses_df \u001b[39m=\u001b[39m pd\u001b[39m.\u001b[39;49mread_csv(\u001b[39m'\u001b[39;49m\u001b[39m../data/raw/external/API/2/property_addresses_part2.csv\u001b[39;49m\u001b[39m'\u001b[39;49m)  \u001b[39m# 替换为你的房屋CSV文件路径\u001b[39;00m\n\u001b[1;32m      7\u001b[0m supermarkets_df \u001b[39m=\u001b[39m pd\u001b[39m.\u001b[39mread_csv(\u001b[39m'\u001b[39m\u001b[39m/Users/fenglingyi/Downloads/groupwork_file/victoria_supermarkets.csv\u001b[39m\u001b[39m'\u001b[39m)  \u001b[39m# 替换为你的车站CSV文件路径\u001b[39;00m\n\u001b[1;32m      9\u001b[0m houses_df \u001b[39m=\u001b[39m houses_df\u001b[39m.\u001b[39mdropna(subset\u001b[39m=\u001b[39m[\u001b[39m'\u001b[39m\u001b[39mlongitude\u001b[39m\u001b[39m'\u001b[39m, \u001b[39m'\u001b[39m\u001b[39mlatitude\u001b[39m\u001b[39m'\u001b[39m])\n",
      "File \u001b[0;32m~/myenv/lib/python3.12/site-packages/pandas/io/parsers/readers.py:1026\u001b[0m, in \u001b[0;36mread_csv\u001b[0;34m(filepath_or_buffer, sep, delimiter, header, names, index_col, usecols, dtype, engine, converters, true_values, false_values, skipinitialspace, skiprows, skipfooter, nrows, na_values, keep_default_na, na_filter, verbose, skip_blank_lines, parse_dates, infer_datetime_format, keep_date_col, date_parser, date_format, dayfirst, cache_dates, iterator, chunksize, compression, thousands, decimal, lineterminator, quotechar, quoting, doublequote, escapechar, comment, encoding, encoding_errors, dialect, on_bad_lines, delim_whitespace, low_memory, memory_map, float_precision, storage_options, dtype_backend)\u001b[0m\n\u001b[1;32m   1013\u001b[0m kwds_defaults \u001b[39m=\u001b[39m _refine_defaults_read(\n\u001b[1;32m   1014\u001b[0m     dialect,\n\u001b[1;32m   1015\u001b[0m     delimiter,\n\u001b[0;32m   (...)\u001b[0m\n\u001b[1;32m   1022\u001b[0m     dtype_backend\u001b[39m=\u001b[39mdtype_backend,\n\u001b[1;32m   1023\u001b[0m )\n\u001b[1;32m   1024\u001b[0m kwds\u001b[39m.\u001b[39mupdate(kwds_defaults)\n\u001b[0;32m-> 1026\u001b[0m \u001b[39mreturn\u001b[39;00m _read(filepath_or_buffer, kwds)\n",
      "File \u001b[0;32m~/myenv/lib/python3.12/site-packages/pandas/io/parsers/readers.py:620\u001b[0m, in \u001b[0;36m_read\u001b[0;34m(filepath_or_buffer, kwds)\u001b[0m\n\u001b[1;32m    617\u001b[0m _validate_names(kwds\u001b[39m.\u001b[39mget(\u001b[39m\"\u001b[39m\u001b[39mnames\u001b[39m\u001b[39m\"\u001b[39m, \u001b[39mNone\u001b[39;00m))\n\u001b[1;32m    619\u001b[0m \u001b[39m# Create the parser.\u001b[39;00m\n\u001b[0;32m--> 620\u001b[0m parser \u001b[39m=\u001b[39m TextFileReader(filepath_or_buffer, \u001b[39m*\u001b[39;49m\u001b[39m*\u001b[39;49mkwds)\n\u001b[1;32m    622\u001b[0m \u001b[39mif\u001b[39;00m chunksize \u001b[39mor\u001b[39;00m iterator:\n\u001b[1;32m    623\u001b[0m     \u001b[39mreturn\u001b[39;00m parser\n",
      "File \u001b[0;32m~/myenv/lib/python3.12/site-packages/pandas/io/parsers/readers.py:1620\u001b[0m, in \u001b[0;36mTextFileReader.__init__\u001b[0;34m(self, f, engine, **kwds)\u001b[0m\n\u001b[1;32m   1617\u001b[0m     \u001b[39mself\u001b[39m\u001b[39m.\u001b[39moptions[\u001b[39m\"\u001b[39m\u001b[39mhas_index_names\u001b[39m\u001b[39m\"\u001b[39m] \u001b[39m=\u001b[39m kwds[\u001b[39m\"\u001b[39m\u001b[39mhas_index_names\u001b[39m\u001b[39m\"\u001b[39m]\n\u001b[1;32m   1619\u001b[0m \u001b[39mself\u001b[39m\u001b[39m.\u001b[39mhandles: IOHandles \u001b[39m|\u001b[39m \u001b[39mNone\u001b[39;00m \u001b[39m=\u001b[39m \u001b[39mNone\u001b[39;00m\n\u001b[0;32m-> 1620\u001b[0m \u001b[39mself\u001b[39m\u001b[39m.\u001b[39m_engine \u001b[39m=\u001b[39m \u001b[39mself\u001b[39;49m\u001b[39m.\u001b[39;49m_make_engine(f, \u001b[39mself\u001b[39;49m\u001b[39m.\u001b[39;49mengine)\n",
      "File \u001b[0;32m~/myenv/lib/python3.12/site-packages/pandas/io/parsers/readers.py:1880\u001b[0m, in \u001b[0;36mTextFileReader._make_engine\u001b[0;34m(self, f, engine)\u001b[0m\n\u001b[1;32m   1878\u001b[0m     \u001b[39mif\u001b[39;00m \u001b[39m\"\u001b[39m\u001b[39mb\u001b[39m\u001b[39m\"\u001b[39m \u001b[39mnot\u001b[39;00m \u001b[39min\u001b[39;00m mode:\n\u001b[1;32m   1879\u001b[0m         mode \u001b[39m+\u001b[39m\u001b[39m=\u001b[39m \u001b[39m\"\u001b[39m\u001b[39mb\u001b[39m\u001b[39m\"\u001b[39m\n\u001b[0;32m-> 1880\u001b[0m \u001b[39mself\u001b[39m\u001b[39m.\u001b[39mhandles \u001b[39m=\u001b[39m get_handle(\n\u001b[1;32m   1881\u001b[0m     f,\n\u001b[1;32m   1882\u001b[0m     mode,\n\u001b[1;32m   1883\u001b[0m     encoding\u001b[39m=\u001b[39;49m\u001b[39mself\u001b[39;49m\u001b[39m.\u001b[39;49moptions\u001b[39m.\u001b[39;49mget(\u001b[39m\"\u001b[39;49m\u001b[39mencoding\u001b[39;49m\u001b[39m\"\u001b[39;49m, \u001b[39mNone\u001b[39;49;00m),\n\u001b[1;32m   1884\u001b[0m     compression\u001b[39m=\u001b[39;49m\u001b[39mself\u001b[39;49m\u001b[39m.\u001b[39;49moptions\u001b[39m.\u001b[39;49mget(\u001b[39m\"\u001b[39;49m\u001b[39mcompression\u001b[39;49m\u001b[39m\"\u001b[39;49m, \u001b[39mNone\u001b[39;49;00m),\n\u001b[1;32m   1885\u001b[0m     memory_map\u001b[39m=\u001b[39;49m\u001b[39mself\u001b[39;49m\u001b[39m.\u001b[39;49moptions\u001b[39m.\u001b[39;49mget(\u001b[39m\"\u001b[39;49m\u001b[39mmemory_map\u001b[39;49m\u001b[39m\"\u001b[39;49m, \u001b[39mFalse\u001b[39;49;00m),\n\u001b[1;32m   1886\u001b[0m     is_text\u001b[39m=\u001b[39;49mis_text,\n\u001b[1;32m   1887\u001b[0m     errors\u001b[39m=\u001b[39;49m\u001b[39mself\u001b[39;49m\u001b[39m.\u001b[39;49moptions\u001b[39m.\u001b[39;49mget(\u001b[39m\"\u001b[39;49m\u001b[39mencoding_errors\u001b[39;49m\u001b[39m\"\u001b[39;49m, \u001b[39m\"\u001b[39;49m\u001b[39mstrict\u001b[39;49m\u001b[39m\"\u001b[39;49m),\n\u001b[1;32m   1888\u001b[0m     storage_options\u001b[39m=\u001b[39;49m\u001b[39mself\u001b[39;49m\u001b[39m.\u001b[39;49moptions\u001b[39m.\u001b[39;49mget(\u001b[39m\"\u001b[39;49m\u001b[39mstorage_options\u001b[39;49m\u001b[39m\"\u001b[39;49m, \u001b[39mNone\u001b[39;49;00m),\n\u001b[1;32m   1889\u001b[0m )\n\u001b[1;32m   1890\u001b[0m \u001b[39massert\u001b[39;00m \u001b[39mself\u001b[39m\u001b[39m.\u001b[39mhandles \u001b[39mis\u001b[39;00m \u001b[39mnot\u001b[39;00m \u001b[39mNone\u001b[39;00m\n\u001b[1;32m   1891\u001b[0m f \u001b[39m=\u001b[39m \u001b[39mself\u001b[39m\u001b[39m.\u001b[39mhandles\u001b[39m.\u001b[39mhandle\n",
      "File \u001b[0;32m~/myenv/lib/python3.12/site-packages/pandas/io/common.py:873\u001b[0m, in \u001b[0;36mget_handle\u001b[0;34m(path_or_buf, mode, encoding, compression, memory_map, is_text, errors, storage_options)\u001b[0m\n\u001b[1;32m    868\u001b[0m \u001b[39melif\u001b[39;00m \u001b[39misinstance\u001b[39m(handle, \u001b[39mstr\u001b[39m):\n\u001b[1;32m    869\u001b[0m     \u001b[39m# Check whether the filename is to be opened in binary mode.\u001b[39;00m\n\u001b[1;32m    870\u001b[0m     \u001b[39m# Binary mode does not support 'encoding' and 'newline'.\u001b[39;00m\n\u001b[1;32m    871\u001b[0m     \u001b[39mif\u001b[39;00m ioargs\u001b[39m.\u001b[39mencoding \u001b[39mand\u001b[39;00m \u001b[39m\"\u001b[39m\u001b[39mb\u001b[39m\u001b[39m\"\u001b[39m \u001b[39mnot\u001b[39;00m \u001b[39min\u001b[39;00m ioargs\u001b[39m.\u001b[39mmode:\n\u001b[1;32m    872\u001b[0m         \u001b[39m# Encoding\u001b[39;00m\n\u001b[0;32m--> 873\u001b[0m         handle \u001b[39m=\u001b[39m \u001b[39mopen\u001b[39;49m(\n\u001b[1;32m    874\u001b[0m             handle,\n\u001b[1;32m    875\u001b[0m             ioargs\u001b[39m.\u001b[39;49mmode,\n\u001b[1;32m    876\u001b[0m             encoding\u001b[39m=\u001b[39;49mioargs\u001b[39m.\u001b[39;49mencoding,\n\u001b[1;32m    877\u001b[0m             errors\u001b[39m=\u001b[39;49merrors,\n\u001b[1;32m    878\u001b[0m             newline\u001b[39m=\u001b[39;49m\u001b[39m\"\u001b[39;49m\u001b[39m\"\u001b[39;49m,\n\u001b[1;32m    879\u001b[0m         )\n\u001b[1;32m    880\u001b[0m     \u001b[39melse\u001b[39;00m:\n\u001b[1;32m    881\u001b[0m         \u001b[39m# Binary mode\u001b[39;00m\n\u001b[1;32m    882\u001b[0m         handle \u001b[39m=\u001b[39m \u001b[39mopen\u001b[39m(handle, ioargs\u001b[39m.\u001b[39mmode)\n",
      "\u001b[0;31mFileNotFoundError\u001b[0m: [Errno 2] No such file or directory: '../data/raw/external/API/2/property_addresses_part2.csv'"
     ]
    }
   ],
   "source": [
    "import pandas as pd\n",
    "import geojson\n",
    "from geojson import Feature, Point, FeatureCollection\n",
    "\n",
    "houses_df = pd.read_csv('../data/raw/external/API/2/property_addresses_part2.csv')  # 替换为你的房屋CSV文件路径\n",
    "supermarkets_df = pd.read_csv('../data/raw/external/API/victoria_supermarkets.csv')  # 替换为你的车站CSV文件路径\n",
    "\n",
    "houses_df = houses_df.dropna(subset=['longitude', 'latitude'])\n",
    "supermarkets_df = supermarkets_df.dropna(subset=['longitude', 'latitude'])\n",
    "\n",
    "\n",
    "def create_geojson_feature(row, feature_type='house'):\n",
    "    point = Point((row['longitude'], row['latitude']))\n",
    "    properties = {\n",
    "        'address': row.get('address', 'unknown'), \n",
    "        'type': feature_type\n",
    "    }\n",
    "    return Feature(geometry=point, properties=properties)\n",
    "\n",
    "# 转换房屋数据为 GeoJSON Feature\n",
    "house_features = houses_df.apply(lambda row: create_geojson_feature(row, 'house'), axis=1).tolist()\n",
    "house_feature_collection = FeatureCollection(house_features)\n",
    "\n",
    "# 转换车站数据为 GeoJSON Feature\n",
    "supermarkets_features = supermarkets_df.apply(lambda row: create_geojson_feature(row, 'supermarkets'), axis=1).tolist()\n",
    "supermarkets_feature_collection = FeatureCollection(supermarkets_features)\n",
    "\n",
    "houses_geojson_output_path = '../data/raw/external/API/2/property_geojson2.geojson'\n",
    "supermarkets_geojson_output_path = '../data/raw/external/API/2/vic_supermarket_geojson.geojson'\n",
    "\n",
    "with open(houses_geojson_output_path, 'w') as f:\n",
    "    geojson.dump(house_feature_collection, f)\n",
    "\n",
    "with open(supermarkets_geojson_output_path, 'w') as f:\n",
    "    geojson.dump(supermarkets_feature_collection, f)\n",
    "\n",
    "print(\"Created\")"
   ]
  },
  {
   "cell_type": "markdown",
   "metadata": {},
   "source": [
    "part 1"
   ]
  },
  {
   "cell_type": "code",
   "execution_count": null,
   "metadata": {},
   "outputs": [
    {
     "name": "stdout",
     "output_type": "stream",
     "text": [
      "结果已保存到 /Users/fenglingyi/Downloads/groupwork_generate/apart_closest_supermarket_distance_final_2.csv\n"
     ]
    }
   ],
   "source": [
    "\n",
    "import geojson\n",
    "import openrouteservice\n",
    "import pandas as pd\n",
    "import time\n",
    "\n",
    "api_key = '5b3ce3597851110001cf624816520a4a150a44c887cfdb6517d286f4' \n",
    "client = openrouteservice.Client(key=api_key)\n",
    "\n",
    "with open('../data/raw/external/API/2/property_geojson1.geojson', 'r') as f:\n",
    "    rent_geojson = geojson.load(f)\n",
    "\n",
    "with open('../data/raw/external/API/2/vic_supermarket_geojson.geojson', 'r') as f:\n",
    "    supermarkets_geojson = geojson.load(f)\n",
    "\n",
    "def extract_coordinates(features):\n",
    "    coordinates = []\n",
    "    for feature in features['features']:\n",
    "        lon, lat = feature['geometry']['coordinates']\n",
    "        address = feature['properties'].get('address', 'unknown')\n",
    "        coordinates.append((lat, lon, address))\n",
    "    return coordinates\n",
    "\n",
    "rent_coordinates = extract_coordinates(rent_geojson)\n",
    "supermarkets_coordinates = extract_coordinates(supermarkets_geojson)\n",
    "\n",
    "\n",
    "house_coords = [(lon, lat) for lat, lon, _ in rent_coordinates]\n",
    "supermarkets_coords = [(lon, lat) for lat, lon, _ in supermarkets_coordinates]\n",
    "\n",
    "def calculate_distance_matrix_in_batches(house_coords, supermarkets_coords, batch_size=2):\n",
    "    all_shortest_distances = []\n",
    "    \n",
    "    for i in range(0, len(house_coords), batch_size):\n",
    "        batch_houses = house_coords[i:i + batch_size]\n",
    "        try:\n",
    "            matrix = client.distance_matrix(\n",
    "                locations=batch_houses + supermarkets_coords,\n",
    "                profile='driving-car',\n",
    "                sources=list(range(len(batch_houses))),\n",
    "                destinations=list(range(len(batch_houses), len(batch_houses) + len(supermarkets_coords))),\n",
    "                metrics=['distance'],\n",
    "                units='km'\n",
    "            )\n",
    "            distances = matrix['distances']\n",
    "            \n",
    "            \n",
    "            for j, house_distances in enumerate(distances[:len(batch_houses)]):\n",
    "                \n",
    "                valid_distances = [d for d in house_distances if d is not None]\n",
    "                if valid_distances:\n",
    "                    min_distance = min(valid_distances)\n",
    "                    closest_supermarkets_idx = house_distances.index(min_distance)\n",
    "                    rent_address = rent_coordinates[i + j][2]\n",
    "                    closest_supermarkets = supermarkets_coordinates[closest_supermarkets_idx][2]\n",
    "                    all_shortest_distances.append({\n",
    "                        'rent_address': rent_address,\n",
    "                        'closest_supermarkets': closest_supermarkets,\n",
    "                        'minimum_distance_supermarket': min_distance\n",
    "                    })\n",
    "        except Exception as e:\n",
    "            print(f\"Error calculating distance matrix: {e}\")\n",
    "        time.sleep(1)  \n",
    "    \n",
    "    return all_shortest_distances\n",
    "\n",
    "\n",
    "shortest_distances = calculate_distance_matrix_in_batches(house_coords, supermarkets_coords, batch_size=2)\n",
    "\n",
    "shortest_distances_df = pd.DataFrame(shortest_distances)\n",
    "output_path = '../data/raw/external/API/2/apart_closest_supermarket_distance_final_2.csv'\n",
    "shortest_distances_df.to_csv(output_path, index=False)\n",
    "\n",
    "print(f\"saved to {output_path}\")\n"
   ]
  },
  {
   "cell_type": "code",
   "execution_count": null,
   "metadata": {},
   "outputs": [
    {
     "name": "stdout",
     "output_type": "stream",
     "text": [
      "结果已保存到 /Users/fenglingyi/Downloads/groupwork_generate/bpart_closest_supermarket_distance_final_2.csv\n"
     ]
    }
   ],
   "source": [
    "import geojson\n",
    "import openrouteservice\n",
    "import pandas as pd\n",
    "import time\n",
    "\n",
    "api_key = '5b3ce3597851110001cf6248dfd6833040c341ebb4797f7491012ac1'\n",
    "client = openrouteservice.Client(key=api_key)\n",
    "\n",
    "with open('../data/raw/external/API/2/property_geojson2.geojson', 'r') as f:\n",
    "    rent_geojson = geojson.load(f)\n",
    "\n",
    "with open('../data/raw/external/API/2/vic_supermarket_geojson.geojson', 'r') as f:\n",
    "    supermarkets_geojson = geojson.load(f)\n",
    "\n",
    "\n",
    "def extract_coordinates(features):\n",
    "    coordinates = []\n",
    "    for feature in features['features']:\n",
    "        lon, lat = feature['geometry']['coordinates']\n",
    "        address = feature['properties'].get('address', 'unknown')\n",
    "        coordinates.append((lat, lon, address))\n",
    "    return coordinates\n",
    "\n",
    "rent_coordinates = extract_coordinates(rent_geojson)\n",
    "supermarkets_coordinates = extract_coordinates(supermarkets_geojson)\n",
    "\n",
    "house_coords = [(lon, lat) for lat, lon, _ in rent_coordinates]\n",
    "supermarkets_coords = [(lon, lat) for lat, lon, _ in supermarkets_coordinates]\n",
    "\n",
    "def calculate_distance_matrix_in_batches(house_coords, supermarkets_coords, batch_size=2):\n",
    "    all_shortest_distances = []\n",
    "    \n",
    "    for i in range(0, len(house_coords), batch_size):\n",
    "        batch_houses = house_coords[i:i + batch_size]\n",
    "        try:\n",
    "            matrix = client.distance_matrix(\n",
    "                locations=batch_houses + supermarkets_coords,\n",
    "                profile='driving-car',\n",
    "                sources=list(range(len(batch_houses))),\n",
    "                destinations=list(range(len(batch_houses), len(batch_houses) + len(supermarkets_coords))),\n",
    "                metrics=['distance'],\n",
    "                units='km'\n",
    "            )\n",
    "            distances = matrix['distances']\n",
    "            \n",
    "            for j, house_distances in enumerate(distances[:len(batch_houses)]):\n",
    "                valid_distances = [d for d in house_distances if d is not None]\n",
    "                if valid_distances:\n",
    "                    min_distance = min(valid_distances)\n",
    "                    closest_supermarkets_idx = house_distances.index(min_distance)\n",
    "                    rent_address = rent_coordinates[i + j][2]\n",
    "                    closest_supermarkets = supermarkets_coordinates[closest_supermarkets_idx][2]\n",
    "                    all_shortest_distances.append({\n",
    "                        'rent_address': rent_address,\n",
    "                        'closest_supermarkets': closest_supermarkets,\n",
    "                        'minimum_distance_supermarket': min_distance\n",
    "                    })\n",
    "        except Exception as e:\n",
    "            print(f\"Error calculating distance matrix: {e}\")\n",
    "        time.sleep(1)  \n",
    "    \n",
    "    return all_shortest_distances\n",
    "\n",
    "shortest_distances = calculate_distance_matrix_in_batches(house_coords, supermarkets_coords, batch_size=2)\n",
    "\n",
    "\n",
    "shortest_distances_df = pd.DataFrame(shortest_distances)\n",
    "output_path = '../data/raw/external/API/2/bpart_closest_supermarket_distance_final_2.csv'\n",
    "shortest_distances_df.to_csv(output_path, index=False)\n",
    "\n",
    "print(f\"saved to {output_path}\")\n"
   ]
  },
  {
   "cell_type": "code",
   "execution_count": null,
   "metadata": {},
   "outputs": [],
   "source": [
    "import pandas as pd\n",
    "\n",
    "df_part1 = pd.read_csv('../data/raw/external/API/2/apart_closest_supermarket_distance_final_2.csv')\n",
    "df_part2 = pd.read_csv('../data/raw/external/API/2/bpart_closest_supermarket_distance_final_2.csv')\n",
    "\n",
    "# merge\n",
    "df_combined = pd.concat([df_part1, df_part2], axis=0)\n",
    "\n",
    "df_combined.to_csv('../data/curated/external/API/2/closest_supermarket_distance_final_2.csv.csv', index=False)\n"
   ]
  }
 ],
 "metadata": {
  "kernelspec": {
   "display_name": "Python (myenv)",
   "language": "python",
   "name": "myenv"
  },
  "language_info": {
   "codemirror_mode": {
    "name": "ipython",
    "version": 3
   },
   "file_extension": ".py",
   "mimetype": "text/x-python",
   "name": "python",
   "nbconvert_exporter": "python",
   "pygments_lexer": "ipython3",
   "version": "3.12.5"
  }
 },
 "nbformat": 4,
 "nbformat_minor": 2
}
