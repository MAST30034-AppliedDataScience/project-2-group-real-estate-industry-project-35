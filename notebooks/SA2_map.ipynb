{
 "cells": [
  {
   "cell_type": "markdown",
   "metadata": {},
   "source": [
    "### weekly income by sa2"
   ]
  },
  {
   "cell_type": "code",
   "execution_count": null,
   "metadata": {},
   "outputs": [],
   "source": [
    "import geopandas as gpd\n",
    "import pandas as pd\n",
    "import folium\n",
    "\n",
    "### read geopackage data\n",
    "gpkg_file_path = '../data/raw/external/extracted_files/G01_VIC_GDA2020.gpkg'\n",
    "gdf = gpd.read_file(gpkg_file_path, layer='G01_SA2_2021_VIC')\n",
    "\n",
    "### read income data\n",
    "income_data_path = '../data/curated/external/SA2/sa2income.csv'\n",
    "income_df = pd.read_csv(income_data_path)\n",
    "income_df['SA2 code'] = income_df['SA2 code'].fillna(0)\n",
    "income_df['SA2 code'] = income_df['SA2 code'].astype(int).astype(str)\n",
    "\n",
    "### merge the data\n",
    "gdf = gdf.merge(income_df, left_on='SA2_CODE_2021', right_on='SA2 code', how='left')\n",
    "\n",
    "### get the X,Y coordinate\n",
    "gdf = gdf.to_crs(epsg=4169)\n",
    "\n",
    "### create Folium map\n",
    "m = folium.Map(location=[gdf.geometry.centroid.y.mean(), gdf.geometry.centroid.x.mean()], zoom_start=10)\n",
    "\n",
    "\n",
    "gdf_json = gdf.to_json()\n",
    "### Choropleth\n",
    "folium.Choropleth(\n",
    "    geo_data=gdf_json,\n",
    "    data=gdf,\n",
    "    columns=['SA2_NAME_2021', 'Median_tot_prsnl_inc_weekly'],\n",
    "    key_on='feature.properties.SA2_NAME_2021',\n",
    "    fill_color='YlOrRd',\n",
    "    fill_opacity=0.7,\n",
    "    line_opacity=0.2,\n",
    "    legend_name='SA2 name'\n",
    ").add_to(m)\n",
    "\n",
    "### tooltip show the income and region\n",
    "folium.GeoJson(\n",
    "    gdf_json,\n",
    "    tooltip=folium.GeoJsonTooltip(fields=['SA2_NAME_2021', 'Median_tot_prsnl_inc_weekly'], aliases=['SA2 Name: ', 'Median weekly income: '])\n",
    ").add_to(m)\n",
    "\n",
    "folium.LayerControl().add_to(m)\n",
    "\n",
    "m\n"
   ]
  },
  {
   "cell_type": "markdown",
   "metadata": {},
   "source": [
    "### overseas immigration"
   ]
  },
  {
   "cell_type": "code",
   "execution_count": null,
   "metadata": {},
   "outputs": [],
   "source": [
    "### read geopackage data\n",
    "gpkg_file_path = '../data/raw/external/extracted_files/G01_VIC_GDA2020.gpkg'\n",
    "gdf = gpd.read_file(gpkg_file_path, layer='G01_SA2_2021_VIC')\n",
    "\n",
    "### read income data\n",
    "pop_data_path = '../data/curated/external/SA2/sa2population.csv'\n",
    "pop_df = pd.read_csv(pop_data_path)\n",
    "pop_df['SA2 code'] = pop_df['SA2 code'].fillna(0)\n",
    "pop_df['SA2 code'] = pop_df['SA2 code'].astype(int).astype(str)\n",
    "\n",
    "### merge the data\n",
    "gdf = gdf.merge(pop_df, left_on='SA2_CODE_2021', right_on='SA2 code', how='left')\n",
    "\n",
    "### get the X,Y coordinate\n",
    "gdf = gdf.to_crs(epsg=4169)\n",
    "\n",
    "### create Folium map\n",
    "m = folium.Map(location=[gdf.geometry.centroid.y.mean(), gdf.geometry.centroid.x.mean()], zoom_start=10)\n",
    "\n",
    "\n",
    "gdf_json = gdf.to_json()\n",
    "### Choropleth\n",
    "folium.Choropleth(\n",
    "    geo_data=gdf_json,\n",
    "    data=gdf,\n",
    "    columns=['SA2_NAME_2021', 'Net overseas migration'],\n",
    "    key_on='feature.properties.SA2_NAME_2021',\n",
    "    fill_color='YlOrRd',\n",
    "    fill_opacity=0.7,\n",
    "    line_opacity=0.2,\n",
    "    legend_name='SA2 name'\n",
    ").add_to(m)\n",
    "\n",
    "### tooltip show the income and region\n",
    "folium.GeoJson(\n",
    "    gdf_json,\n",
    "    tooltip=folium.GeoJsonTooltip(fields=['SA2_NAME_2021', 'Net overseas migration'], aliases=['SA2 Name: ', 'Net overseas migration: '])\n",
    ").add_to(m)\n",
    "\n",
    "folium.LayerControl().add_to(m)\n",
    "\n",
    "m"
   ]
  }
 ],
 "metadata": {
  "kernelspec": {
   "display_name": "base",
   "language": "python",
   "name": "python3"
  },
  "language_info": {
   "codemirror_mode": {
    "name": "ipython",
    "version": 3
   },
   "file_extension": ".py",
   "mimetype": "text/x-python",
   "name": "python",
   "nbconvert_exporter": "python",
   "pygments_lexer": "ipython3",
   "version": "3.10.9"
  }
 },
 "nbformat": 4,
 "nbformat_minor": 2
}
