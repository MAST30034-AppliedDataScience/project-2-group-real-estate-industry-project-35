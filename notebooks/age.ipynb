{
 "cells": [
  {
   "cell_type": "code",
   "execution_count": 21,
   "metadata": {},
   "outputs": [
    {
     "name": "stdout",
     "output_type": "stream",
     "text": [
      "所有操作成功完成，文件已保存到: /Users/fenglingyi/Downloads/final_file.csv\n"
     ]
    }
   ],
   "source": [
    "import pandas as pd\n",
    "import requests\n",
    "import os\n",
    "\n",
    "# URL for age file\n",
    "url = 'https://www.abs.gov.au/statistics/people/population/regional-population-age-and-sex/2023/32350DS0002_2023.xlsx'\n",
    "\n",
    "# download\n",
    "save_path = os.path.expanduser('../data/raw/external/32350DS0002_2023.xlsx')\n",
    "response = requests.get(url)\n",
    "with open(save_path, 'wb') as file:\n",
    "    file.write(response.content)\n",
    "\n",
    "# Read \"Table 1\" from Excel file\n",
    "age_file = pd.read_excel(save_path, sheet_name=\"Table 1\")\n",
    "\n",
    "# Due to the problem in format, swap rows 5 and 6 (data after column 11)\n",
    "age_file.iloc[[3, 4], 10:] = age_file.iloc[[4, 3], 10:].values\n",
    "\n",
    "swapped_file_path = '../data/raw/external/swapped_rows.csv'\n",
    "age_file.to_csv(swapped_file_path, index=False)\n",
    "\n",
    "# Read the swapped file and skip the first empty five lines\n",
    "a_file = pd.read_csv(swapped_file_path, skiprows=5)\n",
    "\n",
    "# Reads another file for merging\n",
    "b_file_path = './data/curated/external/cleaned_final_data.csv'\n",
    "b_file = pd.read_csv(b_file_path)\n",
    "\n",
    "# choose needed columns in a_file ：SA2 code, Median age, People aged 0-14 years, People aged 15-64 years, People aged 65 years and over\n",
    "age_file_subset = a_file[['SA2 code', 'Median age', 'People aged 0-14 years', 'People aged 15-64 years', 'People aged 65 years and over']]\n",
    "\n",
    "# Merge data based on the SA2_CODE_2021 column of the b file and the SA2 code column of the a file\n",
    "merged_file = b_file.merge(age_file_subset, how='left', left_on='SA2_CODE_2021', right_on='SA2 code')\n",
    "\n",
    "# Convert specific column floating-point numbers and process NaN values\n",
    "columns_to_convert = ['Median age', 'People aged 0-14 years', 'People aged 15-64 years', 'People aged 65 years and over']\n",
    "merged_file[columns_to_convert] = merged_file[columns_to_convert].apply(pd.to_numeric, errors='coerce').fillna(0)\n",
    "\n",
    "final_file_path = '../data/curated/external/final_file.csv'\n",
    "merged_file.to_csv(final_file_path, index=False)\n",
    "\n"
   ]
  }
 ],
 "metadata": {
  "kernelspec": {
   "display_name": "Python (myenv)",
   "language": "python",
   "name": "myenv"
  },
  "language_info": {
   "codemirror_mode": {
    "name": "ipython",
    "version": 3
   },
   "file_extension": ".py",
   "mimetype": "text/x-python",
   "name": "python",
   "nbconvert_exporter": "python",
   "pygments_lexer": "ipython3",
   "version": "3.12.6"
  },
  "orig_nbformat": 4
 },
 "nbformat": 4,
 "nbformat_minor": 2
}
