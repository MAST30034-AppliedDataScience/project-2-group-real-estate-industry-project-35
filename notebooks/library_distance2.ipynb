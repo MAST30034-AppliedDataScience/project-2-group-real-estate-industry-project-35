{
 "cells": [
  {
   "cell_type": "code",
   "execution_count": 1,
   "metadata": {},
   "outputs": [
    {
     "name": "stdout",
     "output_type": "stream",
     "text": [
      "房屋和车站的GeoJSON文件已生成\n"
     ]
    }
   ],
   "source": [
    "import pandas as pd\n",
    "import geojson\n",
    "from geojson import Feature, Point, FeatureCollection\n",
    "\n",
    "houses_df = pd.read_csv('../data/curated/property/property_addresses_to_lat_lng_2_final.csv') \n",
    "librarys_df = pd.read_csv('../data/raw/external/victoria_libraries.csv') \n",
    "houses_df = houses_df.dropna(subset=['longitude', 'latitude'])\n",
    "librarys_df = librarys_df.dropna(subset=['longitude', 'latitude'])\n",
    "\n",
    "\n",
    "def create_geojson_feature(row, feature_type='house'):\n",
    "    point = Point((row['longitude'], row['latitude']))\n",
    "    properties = {\n",
    "        'address': row.get('address', 'unknown'), \n",
    "        'type': feature_type\n",
    "    }\n",
    "    return Feature(geometry=point, properties=properties)\n",
    "\n",
    "house_features = houses_df.apply(lambda row: create_geojson_feature(row, 'house'), axis=1).tolist()\n",
    "house_feature_collection = FeatureCollection(house_features)\n",
    "\n",
    "librarys_features = librarys_df.apply(lambda row: create_geojson_feature(row, 'librarys'), axis=1).tolist()\n",
    "librarys_feature_collection = FeatureCollection(librarys_features)\n",
    "\n",
    "\n",
    "houses_geojson_output_path = '../data/raw/external/API/2/property_geojson.geojson'\n",
    "librarys_geojson_output_path = '../data/raw/external/API/2/vic_libraries_geojson.geojson'\n",
    "\n",
    "with open(houses_geojson_output_path, 'w') as f:\n",
    "    geojson.dump(house_feature_collection, f)\n",
    "\n",
    "with open(librarys_geojson_output_path, 'w') as f:\n",
    "    geojson.dump(librarys_feature_collection, f)\n",
    "\n",
    "\n",
    "print(\"Created\")\n"
   ]
  },
  {
   "cell_type": "code",
   "execution_count": 3,
   "metadata": {},
   "outputs": [
    {
     "name": "stdout",
     "output_type": "stream",
     "text": [
      "结果已保存到 /Users/fenglingyi/Downloads/groupwork_generate/closest_library_distance_final_2.csv\n"
     ]
    }
   ],
   "source": [
    "import geojson\n",
    "import openrouteservice\n",
    "import pandas as pd\n",
    "import time\n",
    "\n",
    "api_key = '5b3ce3597851110001cf6248dda07331ae64496fa25c4e54b59fba30' \n",
    "client = openrouteservice.Client(key=api_key)\n",
    "\n",
    "with open('../data/raw/external/API/2/property_geojson.geojson', 'r') as f:\n",
    "    rent_geojson = geojson.load(f)\n",
    "\n",
    "with open('../data/raw/external/API/2/vic_libraries_geojson.geojson', 'r') as f:\n",
    "    librarys_geojson = geojson.load(f)\n",
    "\n",
    "def extract_coordinates(features):\n",
    "    coordinates = []\n",
    "    for feature in features['features']:\n",
    "        lon, lat = feature['geometry']['coordinates']\n",
    "        address = feature['properties'].get('address', 'unknown')\n",
    "        coordinates.append((lat, lon, address))\n",
    "    return coordinates\n",
    "\n",
    "rent_coordinates = extract_coordinates(rent_geojson)\n",
    "librarys_coordinates = extract_coordinates(librarys_geojson)\n",
    "\n",
    "house_coords = [(lon, lat) for lat, lon, _ in rent_coordinates]\n",
    "librarys_coords = [(lon, lat) for lat, lon, _ in librarys_coordinates]\n",
    "\n",
    "def calculate_distance_matrix_in_batches(house_coords, librarys_coords, batch_size=12):\n",
    "    all_shortest_distances = []\n",
    "    \n",
    "    for i in range(0, len(house_coords), batch_size):\n",
    "        batch_houses = house_coords[i:i + batch_size]\n",
    "        try:\n",
    "            matrix = client.distance_matrix(\n",
    "                locations=batch_houses + librarys_coords,\n",
    "                profile='driving-car',\n",
    "                sources=list(range(len(batch_houses))),\n",
    "                destinations=list(range(len(batch_houses), len(batch_houses) + len(librarys_coords))),\n",
    "                metrics=['distance'],\n",
    "                units='km'\n",
    "            )\n",
    "            distances = matrix['distances']\n",
    "            \n",
    "            for j, house_distances in enumerate(distances[:len(batch_houses)]):\n",
    "                valid_distances = [d for d in house_distances if d is not None]\n",
    "                if valid_distances:\n",
    "                    min_distance = min(valid_distances)\n",
    "                    closest_librarys_idx = house_distances.index(min_distance)\n",
    "                    rent_address = rent_coordinates[i + j][2]\n",
    "                    closest_librarys = librarys_coordinates[closest_librarys_idx][2]\n",
    "                    all_shortest_distances.append({\n",
    "                        'rent_address': rent_address,\n",
    "                        'closest_librarys': closest_librarys,\n",
    "                        'minimum_distance_library': min_distance\n",
    "                    })\n",
    "        except Exception as e:\n",
    "            print(f\"Error calculating distance matrix: {e}\")\n",
    "        time.sleep(1) \n",
    "    \n",
    "    return all_shortest_distances\n",
    "\n",
    "\n",
    "shortest_distances = calculate_distance_matrix_in_batches(house_coords, librarys_coords, batch_size=20)\n",
    "\n",
    "shortest_distances_df = pd.DataFrame(shortest_distances)\n",
    "output_path = '../data/raw/external/API/2/closest_library_distance_final_2.csv'\n",
    "shortest_distances_df.to_csv(output_path, index=False)\n",
    "\n",
    "print(f\"Save to {output_path}\")\n"
   ]
  }
 ],
 "metadata": {
  "kernelspec": {
   "display_name": "Python (myenv)",
   "language": "python",
   "name": "myenv"
  },
  "language_info": {
   "codemirror_mode": {
    "name": "ipython",
    "version": 3
   },
   "file_extension": ".py",
   "mimetype": "text/x-python",
   "name": "python",
   "nbconvert_exporter": "python",
   "pygments_lexer": "ipython3",
   "version": "3.12.5"
  }
 },
 "nbformat": 4,
 "nbformat_minor": 2
}
