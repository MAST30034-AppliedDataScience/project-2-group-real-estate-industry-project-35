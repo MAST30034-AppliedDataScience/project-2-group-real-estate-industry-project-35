{
 "cells": [
  {
   "cell_type": "code",
   "execution_count": null,
   "metadata": {},
   "outputs": [],
   "source": [
    "import pandas as pd\n",
    "\n",
    "# Read multiple CSV files and remove the 'Unnamed: 0' column\n",
    "file_paths = [\n",
    "    '../data/curated/external/final_data.csv',\n",
    "    '../data/curated/external/final_data_2csv',\n",
    "    '../data/curated/external/final_data_3.csv',\n",
    "    '../data/curated/external/final_data_4.csv'\n",
    "]\n",
    "\n",
    "# Read each CSV file into pandas DataFrame and drop the 'Unnamed: 0' column if it exists\n",
    "data_1 = pd.read_csv(file_paths[0]).drop(columns=['Unnamed: 0'], errors='ignore')\n",
    "data_2 = pd.read_csv(file_paths[1]).drop(columns=['Unnamed: 0'], errors='ignore')\n",
    "data_3 = pd.read_csv(file_paths[2]).drop(columns=['Unnamed: 0'], errors='ignore')\n",
    "data_4 = pd.read_csv(file_paths[3]).drop(columns=['Unnamed: 0'], errors='ignore')\n",
    "\n",
    "# Concatenate all the data vertically\n",
    "vertical_concatenated_data = pd.concat([data_1, data_2, data_3, data_4], axis=0)\n",
    "\n",
    "# Remove duplicate rows\n",
    "cleaned_data = vertical_concatenated_data.drop_duplicates().reset_index(drop=True)\n",
    "\n",
    "# Save the cleaned data to a CSV file\n",
    "cleaned_file_path = '../data/curated/external/cleaned_final_data.csv'\n",
    "cleaned_data.to_csv(cleaned_file_path, index=False)\n",
    "\n",
    "print(f\"Cleaned data has been saved to {cleaned_file_path}\")"
   ]
  }
 ],
 "metadata": {
  "language_info": {
   "name": "python"
  }
 },
 "nbformat": 4,
 "nbformat_minor": 2
}
