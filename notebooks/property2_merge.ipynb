{
 "cells": [
  {
   "cell_type": "code",
   "execution_count": 70,
   "metadata": {},
   "outputs": [
    {
     "name": "stdout",
     "output_type": "stream",
     "text": [
      "saved\n"
     ]
    },
    {
     "name": "stderr",
     "output_type": "stream",
     "text": [
      "/Users/fenglingyi/myenv/lib/python3.12/site-packages/IPython/core/interactiveshell.py:3517: FutureWarning: The `op` parameter is deprecated and will be removed in a future release. Please use the `predicate` parameter instead.\n",
      "  if await self.run_code(code, result, async_=asy):\n"
     ]
    }
   ],
   "source": [
    "import pandas as pd\n",
    "import geopandas as gpd\n",
    "from shapely.geometry import Point\n",
    "\n",
    "### read CSV\n",
    "property_file_path = '..data/curated/property/property 2.csv'\n",
    "property_data = pd.read_csv(property_file_path)\n",
    "\n",
    "property_data['geometry'] = property_data.apply(lambda row: Point(row['longitude'], row['latitude']), axis=1)\n",
    "property_gdf = gpd.GeoDataFrame(property_data, geometry='geometry', crs='EPSG:4326')\n",
    "\n",
    "### SA2 layer\n",
    "file_path = '../data/extracted_files/G01_VIC_GDA2020.gpkg'\n",
    "gdf_sa2 = gpd.read_file(file_path, layer='G01_SA2_2021_VIC')\n",
    "gdf_sa2 = gdf_sa2.to_crs(epsg=4326)\n",
    "merged_gdf = gpd.sjoin(property_gdf, gdf_sa2[['SA2_CODE_2021', 'SA2_NAME_2021', 'geometry']], how='left', op='within')\n",
    "\n",
    "### save\n",
    "output_file_path = '../data/raw/property/merged_property_sa2_data.csv'\n",
    "merged_gdf.drop_duplicates(subset='address', inplace=True)\n",
    "merged_gdf[['address', 'SA2_CODE_2021', 'SA2_NAME_2021']].to_csv(output_file_path, index=False)\n",
    "print('saved')"
   ]
  },
  {
   "cell_type": "code",
   "execution_count": 71,
   "metadata": {},
   "outputs": [],
   "source": [
    "import pandas as pd\n",
    "\n",
    "# read all files \n",
    "property_file = '..data/curated/property/property 2.csv'\n",
    "police_stations_file = '../data/curated/external/API/2/closest_supermarkets_distance_final_2.csv'\n",
    "schools_file = '../data/curated/external/API/2/closest_school_distance_final_2.csv'\n",
    "stations_file = '../data/curated/external/API/2/closest_stations_distance_final_2.csv'\n",
    "supermarkets_file = '../data/curated/external/API/2/closest_supermarket_distance_final_2.csv.csv'\n",
    "cbd_file = '../data/curated/external/API/2/closest_cbd_distance_final_2.csv'\n",
    "gym_file = '../data/curated/external/API/2/closest_gym_distance_final_2.csv'\n",
    "library_file = '../data/curated/external/API/2/closest_library_distance_final_2.csv'\n",
    "new_merged_file = '../data/raw/property/merged_property_sa2_data.csv'\n",
    "\n",
    "property_df = pd.read_csv(property_file)\n",
    "police_df = pd.read_csv(police_stations_file)\n",
    "schools_df = pd.read_csv(schools_file)\n",
    "stations_df = pd.read_csv(stations_file)\n",
    "supermarkets_df = pd.read_csv(supermarkets_file)\n",
    "cbd_df = pd.read_csv(cbd_file)\n",
    "gym_df = pd.read_csv(gym_file)\n",
    "library_df = pd.read_csv(library_file)\n",
    "new_merged_df = pd.read_csv(new_merged_file)\n",
    "\n",
    "# Rename all 'rent_address' columns 'address'\n",
    "dfs = [police_df, schools_df, stations_df, supermarkets_df, cbd_df, gym_df,library_df]\n",
    "for df in dfs:\n",
    "    df.rename(columns={'rent_address': 'address'}, inplace=True)\n",
    "\n",
    "police_df.rename(columns={'minimum_distance_police_station': 'minimum_distance_police'}, inplace=True)\n",
    "\n",
    "# Merge all data into the property data in turn, using 'rent_address' as the merge key\n",
    "merged_df = property_df.merge(police_df, on='address', how='left')\n",
    "merged_df = merged_df.merge(schools_df, on='address', how='left')\n",
    "merged_df = merged_df.merge(stations_df, on='address', how='left')\n",
    "merged_df = merged_df.merge(supermarkets_df, on='address', how='left')\n",
    "merged_df = merged_df.merge(cbd_df, on='address', how='left')\n",
    "merged_df = merged_df.merge(gym_df, on='address', how='left')\n",
    "merged_df = merged_df.merge(library_df, on='address', how='left')\n",
    "\n",
    "# Merge the newly uploaded data with the previously merged results\n",
    "merged_df = new_merged_df.merge(merged_df, on='address', how='left')\n",
    "\n",
    "# Delete the 'Unnamed: 0' and 'agentName' columns\n",
    "merged_df.drop(columns=['Unnamed: 0', 'agentName'], inplace=True)\n",
    "\n",
    "# Remove the column containing the 'unknown' value\n",
    "merged_df = merged_df.loc[:, ~(merged_df == 'unknown').any()]\n"
   ]
  },
  {
   "cell_type": "code",
   "execution_count": 72,
   "metadata": {},
   "outputs": [],
   "source": [
    "sa2_file = '../data/curated/external/SA2/sa2final.csv'\n",
    "sa2_df = pd.read_csv(sa2_file)\n",
    "\n",
    "# Rename the 'sa2code' column 'SA2_CODE_2021' for merging\n",
    "sa2_df.rename(columns={'SA2 code': 'SA2_CODE_2021'}, inplace=True)\n",
    "# Merge as per column 'SA2_CODE_2021'\n",
    "merged_df = pd.merge(merged_df, sa2_df, on='SA2_CODE_2021', how='left')"
   ]
  },
  {
   "cell_type": "code",
   "execution_count": null,
   "metadata": {},
   "outputs": [],
   "source": [
    "price_post = pd.read_csv('../data/curated/external/unique_postcode_price.csv')\n",
    "uni_school = pd.read_csv('../data/raw/external/school/postcode_school.csv')\n",
    "\n",
    "unique_price_df = pd.read_csv(price_post)\n",
    "postcode_school_df = pd.read_csv(uni_school)\n",
    "\n",
    "# Rename the 'Address_Postcode' column to 'postcode' for merge\n",
    "postcode_school_df.rename(columns={'Address_Postcode': 'postcode'}, inplace=True)\n",
    "\n",
    "merged_by_postcode_df = pd.merge(merged_df, unique_price_df, on='postcode', how='left')\n",
    "merged_by_postcode_df = pd.merge(merged_by_postcode_df, postcode_school_df, on='postcode', how='left')"
   ]
  },
  {
   "cell_type": "code",
   "execution_count": null,
   "metadata": {},
   "outputs": [],
   "source": [
    "crime = pd.read_csv('../data/curated/crime_by_year.csv')\n",
    "\n",
    "### get the crime form and divided into years\n",
    "crime_df = pd.read_csv('../data/curated/crime_by_year.csv')\n",
    "crime_df.rename(columns={'Postcode': 'postcode'}, inplace=True)\n",
    "\n",
    "crime_2021 = crime[crime['Year'] == 2021]\n",
    "crime_2021 = crime_2021.rename(columns={\n",
    "    'Offence Count':'2021crime'\n",
    "})\n",
    "crime_2022 = crime[crime['Year'] == 2022]\n",
    "crime_2022 = crime_2022.rename(columns={\n",
    "    'Offence Count':'2022crime'\n",
    "})\n",
    "crime_2023 = crime[crime['Year'] == 2023]\n",
    "crime_2023 = crime_2023.rename(columns={\n",
    "    'Offence Count':'2023crime'\n",
    "})\n",
    "\n",
    "### merge them\n",
    "merged_by_postcode_df = pd.merge(merged_by_postcode_df,crime_2021,how='left',left_on='postcode',right_on='Postcode')\n",
    "merged_by_postcode_df = merged_by_postcode_df.drop(['Year','Postcode'],axis=1)\n",
    "merged_by_postcode_df = pd.merge(merged_by_postcode_df,crime_2022,how='left',left_on='postcode',right_on='Postcode')\n",
    "merged_by_postcode_df = merged_by_postcode_df.drop(['Year','Postcode'],axis=1)\n",
    "merged_by_postcode_df = pd.merge(merged_by_postcode_df,crime_2023,how='left',left_on='postcode',right_on='Postcode')\n",
    "merged_by_postcode_df = merged_by_postcode_df.drop(['Year','Postcode'],axis=1)\n"
   ]
  },
  {
   "cell_type": "code",
   "execution_count": 74,
   "metadata": {},
   "outputs": [],
   "source": [
    "#drop unnecessary columns\n",
    "merged_by_postcode_df.drop(columns=['SA2 name'], inplace=True)\n",
    "merged_by_postcode_df.drop(columns=['latitude'], inplace=True)\n",
    "merged_by_postcode_df.drop(columns=['longitude'], inplace=True)\n",
    "merged_by_postcode_df.drop(columns=['Unnamed: 0_x'], inplace=True)\n",
    "merged_by_postcode_df.drop(columns=['Unnamed: 0_y'], inplace=True)"
   ]
  },
  {
   "cell_type": "code",
   "execution_count": 75,
   "metadata": {},
   "outputs": [
    {
     "name": "stdout",
     "output_type": "stream",
     "text": [
      "最终合并的文件已保存至: /Users/fenglingyi/Downloads/groupwork_final/final_data_2.csv\n"
     ]
    }
   ],
   "source": [
    "final_output_file_path = '../data/curated/external/final_data_2.csv'\n",
    "merged_by_postcode_df.to_csv(final_output_file_path, index=False)\n",
    "\n",
    "print(\"save to \", final_output_file_path)"
   ]
  }
 ],
 "metadata": {
  "kernelspec": {
   "display_name": "Python (myenv)",
   "language": "python",
   "name": "myenv"
  },
  "language_info": {
   "codemirror_mode": {
    "name": "ipython",
    "version": 3
   },
   "file_extension": ".py",
   "mimetype": "text/x-python",
   "name": "python",
   "nbconvert_exporter": "python",
   "pygments_lexer": "ipython3",
   "version": "3.12.6"
  }
 },
 "nbformat": 4,
 "nbformat_minor": 2
}
